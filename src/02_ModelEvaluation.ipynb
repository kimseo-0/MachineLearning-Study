{
 "cells": [
  {
   "cell_type": "markdown",
   "id": "e7de0379",
   "metadata": {},
   "source": [
    "# 평가"
   ]
  },
  {
   "cell_type": "markdown",
   "id": "26e37702",
   "metadata": {},
   "source": [
    "## 정확도 평가 (Accuracy)"
   ]
  },
  {
   "cell_type": "code",
   "execution_count": 1,
   "id": "15d604af",
   "metadata": {},
   "outputs": [
    {
     "data": {
      "text/plain": [
       "0.8333333333333334"
      ]
     },
     "execution_count": 1,
     "metadata": {},
     "output_type": "execute_result"
    }
   ],
   "source": [
    "from sklearn.metrics import accuracy_score\n",
    "\n",
    "y_true = [1, 0, 1, 1, 0, 1]\n",
    "y_pred = [1, 0, 1, 0, 0, 1]\n",
    "\n",
    "accuracy_score(y_true, y_pred)"
   ]
  },
  {
   "cell_type": "markdown",
   "id": "742f9e32",
   "metadata": {},
   "source": [
    "## 정밀도 평가 (Precision)"
   ]
  },
  {
   "cell_type": "code",
   "execution_count": 2,
   "id": "a7e2fe3e",
   "metadata": {},
   "outputs": [
    {
     "data": {
      "text/plain": [
       "1.0"
      ]
     },
     "execution_count": 2,
     "metadata": {},
     "output_type": "execute_result"
    }
   ],
   "source": [
    "from sklearn.metrics import precision_score\n",
    "\n",
    "y_true = [1, 0, 1, 1, 0, 1]\n",
    "y_pred = [1, 0, 1, 0, 0, 1]\n",
    "\n",
    "precision_score(y_true, y_pred)"
   ]
  },
  {
   "cell_type": "markdown",
   "id": "26ae7060",
   "metadata": {},
   "source": [
    "## 재현율 평가 (Recall)"
   ]
  },
  {
   "cell_type": "code",
   "execution_count": 3,
   "id": "62e48506",
   "metadata": {},
   "outputs": [
    {
     "data": {
      "text/plain": [
       "0.75"
      ]
     },
     "execution_count": 3,
     "metadata": {},
     "output_type": "execute_result"
    }
   ],
   "source": [
    "from sklearn.metrics import recall_score\n",
    "\n",
    "y_true = [1, 0, 1, 1, 0, 1]\n",
    "y_pred = [1, 0, 1, 0, 0, 1]\n",
    "\n",
    "recall_score(y_true, y_pred)"
   ]
  },
  {
   "cell_type": "markdown",
   "id": "c13f8efb",
   "metadata": {},
   "source": [
    "## F1 Score"
   ]
  },
  {
   "cell_type": "markdown",
   "id": "8f9158b3",
   "metadata": {},
   "source": [
    "- Precision과 Recall의 **조화 평균**\n",
    "- 두 지표 간의 **균형 유지**를 원할 때 사용\n",
    "- 정확도(Accuracy)는 클래스 불균형이 심한 문제에서 무용지물이 될 수 있음."
   ]
  },
  {
   "cell_type": "code",
   "execution_count": 4,
   "id": "9a236c28",
   "metadata": {},
   "outputs": [
    {
     "data": {
      "text/plain": [
       "0.8571428571428571"
      ]
     },
     "execution_count": 4,
     "metadata": {},
     "output_type": "execute_result"
    }
   ],
   "source": [
    "from sklearn.metrics import f1_score\n",
    "\n",
    "y_true = [1, 0, 1, 1, 0, 1]\n",
    "y_pred = [1, 0, 1, 0, 0, 1]\n",
    "\n",
    "f1_score(y_true, y_pred)"
   ]
  },
  {
   "cell_type": "markdown",
   "id": "9a8fafb6",
   "metadata": {},
   "source": [
    "## 혼동 행렬 (Confusion Matrix)"
   ]
  },
  {
   "cell_type": "code",
   "execution_count": null,
   "id": "789ee176",
   "metadata": {},
   "outputs": [
    {
     "data": {
      "text/plain": [
       "array([[2, 0],\n",
       "       [1, 3]])"
      ]
     },
     "execution_count": 5,
     "metadata": {},
     "output_type": "execute_result"
    }
   ],
   "source": [
    "\n",
    "from sklearn.metrics import confusion_matrix\n",
    "\n",
    "y_true = [1, 0, 1, 1, 0, 1]\n",
    "y_pred = [1, 0, 1, 0, 0, 1]\n",
    "\n",
    "confusion_matrix(y_true, y_pred)\n",
    "\n",
    "# [[TN FP]\n",
    "#  [FN TP]]"
   ]
  },
  {
   "cell_type": "code",
   "execution_count": 13,
   "id": "663b5d3f",
   "metadata": {},
   "outputs": [
    {
     "data": {
      "text/plain": [
       "<Axes: >"
      ]
     },
     "execution_count": 13,
     "metadata": {},
     "output_type": "execute_result"
    },
    {
     "data": {
      "image/png": "[encoded data removed]",
      "text/plain": [
       "<Figure size 640x480 with 2 Axes>"
      ]
     },
     "metadata": {},
     "output_type": "display_data"
    }
   ],
   "source": [
    "import seaborn as sns\n",
    "\n",
    "sns.heatmap(data=confusion_matrix(y_true, y_pred), cmap=['white', 'lightgrey', 'grey', 'black'])"
   ]
  },
  {
   "cell_type": "markdown",
   "id": "3034353e",
   "metadata": {},
   "source": [
    "## ROC Curve & AUC (이진 분류)"
   ]
  },
  {
   "cell_type": "markdown",
   "id": "1e4fb772",
   "metadata": {},
   "source": [
    "- ROC Curve와 AUC는 머신러닝, 특히 이진 분류(binary classification) 문제에서 모델의 성능을 평가할 때 \n",
    "- ROC Curve는 모델이 얼마나 잘 분류했는지를 시각적으로 보여주는 곡선 그래프입니다."
   ]
  },
  {
   "cell_type": "markdown",
   "id": "f3075d4a",
   "metadata": {},
   "source": [
    "### AUC란?\n",
    "\n",
    "**AUC**는 **Area Under the Curve**의 약자로, ROC Curve 아래 면적을 의미합니다.\n",
    "\n",
    "- **1.0에 가까울수록** 완벽한 모델\n",
    "- **0.5면** 동전 던지기 수준 (무작위 예측)\n",
    "- **0.0에 가까우면** 예측을 완전히 거꾸로 한 것"
   ]
  },
  {
   "cell_type": "code",
   "execution_count": 18,
   "id": "bf885d7b",
   "metadata": {},
   "outputs": [
    {
     "data": {
      "image/png": "[encoded data removed]",
      "text/plain": [
       "<Figure size 640x480 with 1 Axes>"
      ]
     },
     "metadata": {},
     "output_type": "display_data"
    },
    {
     "data": {
      "text/plain": [
       "0.875"
      ]
     },
     "execution_count": 18,
     "metadata": {},
     "output_type": "execute_result"
    }
   ],
   "source": [
    "from sklearn.metrics import roc_curve, roc_auc_score\n",
    "import matplotlib.pyplot as plt\n",
    "\n",
    "y_true = [1, 0, 1, 1, 0, 1]\n",
    "y_pred = [1, 0, 1, 0, 0, 1]\n",
    "\n",
    "fpr, tpr, _ = roc_curve(y_true, y_pred)\n",
    "plt.plot(fpr, tpr)\n",
    "plt.xlabel(\"False Positive Rate\")\n",
    "plt.ylabel(\"True Positive Rate\")\n",
    "plt.title(\"ROC Curve\")\n",
    "plt.show()\n",
    "\n",
    "roc_auc_score(y_true, y_pred)"
   ]
  },
  {
   "cell_type": "markdown",
   "id": "b789e1dc",
   "metadata": {},
   "source": [
    "## Classification Report (요약 리포트)"
   ]
  },
  {
   "cell_type": "code",
   "execution_count": 14,
   "id": "1d46bdd0",
   "metadata": {},
   "outputs": [
    {
     "name": "stdout",
     "output_type": "stream",
     "text": [
      "              precision    recall  f1-score   support\n",
      "\n",
      "           0       0.67      1.00      0.80         2\n",
      "           1       1.00      0.75      0.86         4\n",
      "\n",
      "    accuracy                           0.83         6\n",
      "   macro avg       0.83      0.88      0.83         6\n",
      "weighted avg       0.89      0.83      0.84         6\n",
      "\n"
     ]
    }
   ],
   "source": [
    "from sklearn.metrics import classification_report\n",
    "\n",
    "y_true = [1, 0, 1, 1, 0, 1]\n",
    "y_pred = [1, 0, 1, 0, 0, 1]\n",
    "\n",
    "print(classification_report(y_true, y_pred))"
   ]
  }
 ],
 "metadata": {
  "kernelspec": {
   "display_name": "testproject (3.11.13)",
   "language": "python",
   "name": "python3"
  },
  "language_info": {
   "codemirror_mode": {
    "name": "ipython",
    "version": 3
   },
   "file_extension": ".py",
   "mimetype": "text/x-python",
   "name": "python",
   "nbconvert_exporter": "python",
   "pygments_lexer": "ipython3",
   "version": "3.11.13"
  }
 },
 "nbformat": 4,
 "nbformat_minor": 5
}
