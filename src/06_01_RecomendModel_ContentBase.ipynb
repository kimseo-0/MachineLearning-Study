{
 "cells": [
  {
   "cell_type": "markdown",
   "id": "18a443e9",
   "metadata": {},
   "source": [
    "# 추천 시스템: 콘텐츠 기반 추천 시스템"
   ]
  },
  {
   "cell_type": "code",
   "execution_count": null,
   "id": "f50f997c",
   "metadata": {},
   "outputs": [],
   "source": [
    "import warnings\n",
    "warnings.filterwarnings(action='ignore')"
   ]
  },
  {
   "cell_type": "code",
   "execution_count": null,
   "id": "20ebf61c",
   "metadata": {},
   "outputs": [],
   "source": [
    "import pandas as pd\n",
    "pd.set_option('max_colwidth', 100)"
   ]
  },
  {
   "cell_type": "code",
   "execution_count": null,
   "id": "8540f8bd",
   "metadata": {},
   "outputs": [],
   "source": [
    "df = pd.read_csv('data/movie/tmdb_5000_movies.csv')\n",
    "df.head()"
   ]
  },
  {
   "cell_type": "code",
   "execution_count": null,
   "id": "12311627",
   "metadata": {},
   "outputs": [],
   "source": [
    "moview_df = df[['id', 'title','genres', 'vote_average', 'vote_count', 'popularity', 'keywords', 'overview']]\n",
    "moview_df.head()"
   ]
  },
  {
   "cell_type": "code",
   "execution_count": null,
   "id": "9167eaa7",
   "metadata": {},
   "outputs": [],
   "source": [
    "moview_df.info()"
   ]
  },
  {
   "cell_type": "code",
   "execution_count": null,
   "id": "26485f5b",
   "metadata": {},
   "outputs": [],
   "source": [
    "moview_df = moview_df.drop(['id'], axis=1)"
   ]
  },
  {
   "cell_type": "code",
   "execution_count": null,
   "id": "92da81e2",
   "metadata": {},
   "outputs": [],
   "source": [
    "from ast import literal_eval\n",
    "\n",
    "result = literal_eval(moview_df.iloc[0]['genres'])\n",
    "result"
   ]
  },
  {
   "cell_type": "markdown",
   "id": "3c1e3c16",
   "metadata": {},
   "source": [
    "### 데이터 전처리"
   ]
  },
  {
   "cell_type": "markdown",
   "id": "a596ce57",
   "metadata": {},
   "source": [
    "##### 장르"
   ]
  },
  {
   "cell_type": "code",
   "execution_count": null,
   "id": "d258b97a",
   "metadata": {},
   "outputs": [],
   "source": [
    "moview_df['genres'] = moview_df['genres'].apply(literal_eval)\n",
    "moview_df['genres']"
   ]
  },
  {
   "cell_type": "code",
   "execution_count": null,
   "id": "677555af",
   "metadata": {},
   "outputs": [],
   "source": [
    "import re\n",
    "\n",
    "name_result = []\n",
    "for genre_temp in moview_df['genres']:\n",
    "    temp_name = []\n",
    "    for temp in genre_temp:\n",
    "        name = temp['name']\n",
    "        temp_name.append(re.sub('[\\s]', '', name))\n",
    "    name_result.append(temp_name)\n",
    "name_result\n",
    "\n",
    "moview_df['genres'] = name_result"
   ]
  },
  {
   "cell_type": "code",
   "execution_count": null,
   "id": "63479bee",
   "metadata": {},
   "outputs": [],
   "source": [
    "data_result = []\n",
    "for temp in moview_df['genres']:\n",
    "    data = ' '.join(temp)\n",
    "    data_result.append(data)\n",
    "\n",
    "moview_df['genres_literal'] = data_result"
   ]
  },
  {
   "cell_type": "markdown",
   "id": "03625028",
   "metadata": {},
   "source": [
    "##### 키워드"
   ]
  },
  {
   "cell_type": "code",
   "execution_count": null,
   "id": "d4b60f7b",
   "metadata": {},
   "outputs": [],
   "source": [
    "moview_df['keywords'] = moview_df['keywords'].apply(literal_eval)\n",
    "moview_df['keywords']"
   ]
  },
  {
   "cell_type": "code",
   "execution_count": null,
   "id": "14be8cf4",
   "metadata": {},
   "outputs": [],
   "source": [
    "name_result = []\n",
    "for keyword_temp in moview_df['keywords']:\n",
    "    temp_name = []\n",
    "    for temp in keyword_temp:\n",
    "        name = temp['name']\n",
    "        temp_name.append(name)\n",
    "    name_result.append(temp_name)\n",
    "name_result\n",
    "\n",
    "moview_df['keywords'] = name_result"
   ]
  },
  {
   "cell_type": "markdown",
   "id": "ae91cf6b",
   "metadata": {},
   "source": [
    "### 카운트 벡터라이징"
   ]
  },
  {
   "cell_type": "code",
   "execution_count": null,
   "id": "450dbf87",
   "metadata": {},
   "outputs": [],
   "source": [
    "moview_df['genres_literal']"
   ]
  },
  {
   "cell_type": "code",
   "execution_count": null,
   "id": "d30f9235",
   "metadata": {},
   "outputs": [],
   "source": [
    "from sklearn.feature_extraction.text import CountVectorizer\n",
    "\n",
    "count_vect = CountVectorizer(min_df = 1, ngram_range = (1, 1)) \n",
    "# ngram_range 단어를 1개 에서 2개의 조합을 만들고\n",
    "# min_df 전체 데이터에서 한번 이상 등장한 조합만 사용\n",
    "\n",
    "genre_vect = count_vect.fit_transform(moview_df['genres_literal'])"
   ]
  },
  {
   "cell_type": "code",
   "execution_count": null,
   "id": "6299065a",
   "metadata": {},
   "outputs": [],
   "source": [
    "count_vect.vocabulary_"
   ]
  },
  {
   "cell_type": "code",
   "execution_count": null,
   "id": "66dec21f",
   "metadata": {},
   "outputs": [],
   "source": [
    "genre_vect.shape"
   ]
  },
  {
   "cell_type": "code",
   "execution_count": null,
   "id": "709f2309",
   "metadata": {},
   "outputs": [],
   "source": [
    "genre_vect_array = genre_vect.toarray()\n",
    "genre_vect_array"
   ]
  },
  {
   "cell_type": "code",
   "execution_count": null,
   "id": "20aec7f9",
   "metadata": {},
   "outputs": [],
   "source": [
    "from sklearn.metrics.pairwise import cosine_similarity\n",
    "\n",
    "genre_sim = cosine_similarity(genre_vect_array, genre_vect_array)\n",
    "genre_sim[0].argsort()[::-1]"
   ]
  },
  {
   "cell_type": "code",
   "execution_count": null,
   "id": "2d482acf",
   "metadata": {},
   "outputs": [],
   "source": [
    "moview_df['title'].iloc[0]"
   ]
  },
  {
   "cell_type": "code",
   "execution_count": null,
   "id": "5d2e6e9d",
   "metadata": {},
   "outputs": [],
   "source": [
    "moview_df['title'].iloc[46]"
   ]
  },
  {
   "cell_type": "code",
   "execution_count": null,
   "id": "646c00fe",
   "metadata": {},
   "outputs": [],
   "source": [
    "moview_df['title'].iloc[3569]"
   ]
  },
  {
   "cell_type": "code",
   "execution_count": null,
   "id": "cc24c3f6",
   "metadata": {},
   "outputs": [],
   "source": [
    "def find_sim_movie(df, sorted_index, title_name, top_n = 10):\n",
    "    title_movie = df[df['title'] == title_name]\n",
    "    title_index = title_movie.index.values[0]\n",
    "\n",
    "    similar_index = sorted_index[title_index, : (top_n)]\n",
    "    similar_index = similar_index.reshape(-1)\n",
    "\n",
    "    return df.iloc[similar_index]\n",
    "\n",
    "genre_sim_sorted = genre_sim.argsort()[:, ::-1]\n",
    "\n",
    "movie_result = find_sim_movie(df, genre_sim_sorted, 'Superman', 10)\n",
    "print(movie_result['title'])\n",
    "\n",
    "print(df.iloc[3494]['genres'])\n",
    "print(df.iloc[813]['genres'])"
   ]
  }
 ],
 "metadata": {
  "kernelspec": {
   "display_name": "testproject (3.11.13)",
   "language": "python",
   "name": "python3"
  },
  "language_info": {
   "codemirror_mode": {
    "name": "ipython",
    "version": 3
   },
   "file_extension": ".py",
   "mimetype": "text/x-python",
   "name": "python",
   "nbconvert_exporter": "python",
   "pygments_lexer": "ipython3",
   "version": "3.11.13"
  }
 },
 "nbformat": 4,
 "nbformat_minor": 5
}
